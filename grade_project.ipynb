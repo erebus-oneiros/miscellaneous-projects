{
 "cells": [
  {
   "cell_type": "code",
   "execution_count": null,
   "metadata": {},
   "outputs": [],
   "source": [
    "import numpy as np\n",
    "import pandas as pd\n",
    "import os"
   ]
  },
  {
   "cell_type": "code",
   "execution_count": null,
   "metadata": {},
   "outputs": [],
   "source": [
    "#read the solution\n",
    "df_solution = pd.read_excel('./Project2_Solutions.xlsx', header=0, usecols='A:G')#, skipfooter=15)\n",
    "# df_solution"
   ]
  },
  {
   "cell_type": "code",
   "execution_count": null,
   "metadata": {},
   "outputs": [],
   "source": [
    "def get_name(df):\n",
    "    student_names = df.loc[4][1]\n",
    "    if type(df.loc[4][2])==str:\n",
    "        student_names += '_'+df.loc[4][2]\n",
    "        if type(df.loc[4][3])==str:\n",
    "            student_names += '_'+df.loc[4][3]\n",
    "    return(student_names)\n",
    "\n",
    "def get_num(s):\n",
    "    # check if s is a string or not\n",
    "    if type(s)!=str:\n",
    "        return(s)\n",
    "    l = []\n",
    "    for t in s.split():\n",
    "        try:\n",
    "            l.append(float(t))\n",
    "        except ValueError:\n",
    "            pass\n",
    "    if l==[]:\n",
    "        num = 0 #if no number return 0\n",
    "    else:\n",
    "        num = l[0]\n",
    "    return(num)\n",
    "\n",
    "# def compare_num(stu_num, sol_num):\n",
    "#     if abs(stu_num-sol_num) <= 0.10*sol_num: #if within 10% of solution\n",
    "#         return(True)\n",
    "#     else:\n",
    "#         return(False)"
   ]
  },
  {
   "cell_type": "code",
   "execution_count": null,
   "metadata": {},
   "outputs": [],
   "source": [
    "#initialize\n",
    "dir_path = './project2_submissions/'\n",
    "listfiles = []\n",
    "score_df = pd.DataFrame(columns = ['student_names', 'q1_score'])\n",
    "#read and sort all filenames\n",
    "for xlsx_files in sorted(os.listdir(dir_path)): \n",
    "    if xlsx_files.endswith(\".xlsx\"):\n",
    "        listfiles.append(xlsx_files)\n",
    "#read entire stack for a location\n",
    "for xlsx_i, xlsx_val in enumerate(listfiles):\n",
    "    df = pd.read_excel(dir_path+xlsx_val, header=None)\n",
    "    student_names = get_name(df)\n",
    "    q1_df = df.loc[8:12, 1:6]#.copy()\n",
    "    score=0\n",
    "    #search and compare\n",
    "    for i in q1_df.index:\n",
    "        search_state = q1_df.loc[i,1]\n",
    "        # print(search_state)\n",
    "        sol_values = df_solution[df_solution['State Name']==search_state].iloc[:, 2:].values.flatten()\n",
    "        stu_values = np.zeros_like(sol_values)\n",
    "        for j in range(len(stu_values)):\n",
    "            stu_values[j] = get_num(q1_df.loc[i,j+2])\n",
    "\n",
    "        #compare        \n",
    "        score += np.sum(np.isclose(stu_values, sol_values, rtol=0.10))\n",
    "        # for j in range(len(stu_values)):\n",
    "        #     if compare_num(stu_values[j], sol_values[j]):\n",
    "        #         score +=1\n",
    "    s = pd.DataFrame([[student_names, score]], columns = ['student_names', 'q1_score'])\n",
    "    score_df = score_df.append(s, ignore_index = True)"
   ]
  },
  {
   "cell_type": "code",
   "execution_count": null,
   "metadata": {},
   "outputs": [],
   "source": [
    "score_df"
   ]
  },
  {
   "cell_type": "markdown",
   "metadata": {},
   "source": [
    "-------"
   ]
  },
  {
   "cell_type": "markdown",
   "metadata": {},
   "source": []
  }
 ],
 "metadata": {
  "kernelspec": {
   "display_name": "Python 3.9.7 ('minimal_ds')",
   "language": "python",
   "name": "python3"
  },
  "language_info": {
   "codemirror_mode": {
    "name": "ipython",
    "version": 3
   },
   "file_extension": ".py",
   "mimetype": "text/x-python",
   "name": "python",
   "nbconvert_exporter": "python",
   "pygments_lexer": "ipython3",
   "version": "3.9.7"
  },
  "orig_nbformat": 4,
  "vscode": {
   "interpreter": {
    "hash": "4b0b8fbb94df0e89f55a64d99d1c74003d8c6cd1324b8031e1fe2320830acc8a"
   }
  }
 },
 "nbformat": 4,
 "nbformat_minor": 2
}
